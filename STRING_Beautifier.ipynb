{
 "cells": [
  {
   "cell_type": "code",
   "execution_count": 1,
   "metadata": {},
   "outputs": [
    {
     "name": "stdout",
     "output_type": "stream",
     "text": [
      "Python version: 3.5.2 (default, Nov 12 2018, 13:43:14) \n",
      "[GCC 5.4.0 20160609]\n",
      "networkx version: 1.11\n"
     ]
    }
   ],
   "source": [
    "import networkx as nx\n",
    "import sys\n",
    "import visJS2jupyter.visJS_module\n",
    "\n",
    "print(\"Python version: \" + sys.version)\n",
    "print(\"networkx version: \" + nx.__version__)"
   ]
  },
  {
   "cell_type": "code",
   "execution_count": 2,
   "metadata": {},
   "outputs": [],
   "source": [
    "# The threshhold for filtering edges, based on the \"combined_score\" value assigned by STRING\n",
    "EDGE_TOLERANCE = 0.5\n",
    "# Name of the HTML file to output the network to\n",
    "OUTPUT_FILE_NAME = \"pretty_string.html\"\n",
    "# Rescaling factor for X-Y position of nodes\n",
    "XY_SCALE = 600\n",
    "# Rescaling factor for node sizes\n",
    "NODE_SIZE_MULTIPLIER = 6"
   ]
  },
  {
   "cell_type": "code",
   "execution_count": 3,
   "metadata": {},
   "outputs": [],
   "source": [
    "# Parse node information from string_network_coordinates.txt file\n",
    "nodes = []\n",
    "node_map = {}\n",
    "node_info = []\n",
    "num = 0\n",
    "\n",
    "try:\n",
    "    with open(\"string_network_coordinates.txt\",\"r\") as nodes_file:\n",
    "        for line in nodes_file:\n",
    "            line = line.split()\n",
    "            if line[0][0] == \"#\":\n",
    "                continue\n",
    "\n",
    "            nodes.append(num)\n",
    "            node_map[line[0]] = num\n",
    "            node_info.append({\"id\":num,\n",
    "                              \"degree\":1,\n",
    "                              \"node_label\":line[0],\n",
    "                              \"x\": float(line[1])*XY_SCALE,\n",
    "                              \"y\": float(line[2])*XY_SCALE})\n",
    "            num += 1\n",
    "except IOError as e:\n",
    "    print(\"Failed to open or parse 'string_network_coordinates.txt' to read in information about the nodes, exiting!\")\n",
    "    sys.exit(1)"
   ]
  },
  {
   "cell_type": "code",
   "execution_count": 4,
   "metadata": {},
   "outputs": [],
   "source": [
    "# Parse edge information from string_interactions.tsv file\n",
    "edges = []\n",
    "edge_info = []\n",
    "\n",
    "try:\n",
    "    with open(\"string_interactions.tsv\", \"r\") as edges_file:\n",
    "        for line in edges_file:\n",
    "            line = line.split()\n",
    "            if line[0][0] == \"#\":\n",
    "                continue\n",
    "\n",
    "            edges.append( (node_map[line[0]], node_map[line[1]]) )\n",
    "            edge_info.append({\"source\": node_map[line[0]],\n",
    "                               \"target\": node_map[line[1]],\n",
    "                               \"color\": \"black\",\n",
    "                               \"combined_score\": float(line[-1]),\n",
    "                               \"title\": \"test\"})\n",
    "except IOError as e:\n",
    "    print(\"Failed to open or parse 'string_interactions.tsv' to read in information about the edges, exiting!\")\n",
    "    sys.exit(1)"
   ]
  },
  {
   "cell_type": "code",
   "execution_count": 5,
   "metadata": {},
   "outputs": [],
   "source": [
    "# Parse cluster information from string_kmeans_clusters.tsv file\n",
    "try:\n",
    "    with open(\"string_kmeans_clusters.tsv\", \"r\") as clusters_file:\n",
    "        for line in clusters_file:\n",
    "            line = line.split()\n",
    "            if line[0][0] == \"#\":\n",
    "                continue\n",
    "\n",
    "            node = node_map[line[4]]\n",
    "            node_info[node][\"cluster\"] = line[1]\n",
    "            node_info[node][\"color\"] = line[2]\n",
    "except IOError as e:\n",
    "    print(\"Could not open 'string_kmeans_clusters.tsv' to read in information about the clusters, will not include cluster information.\")"
   ]
  },
  {
   "cell_type": "code",
   "execution_count": 6,
   "metadata": {},
   "outputs": [],
   "source": [
    "# Generate the degree of a node based on the edges\n",
    "# We actually compute the degree + 1, so that the disconnected\n",
    "# nodes still show up on the graph\n",
    "for edge in edge_info:\n",
    "    source = edge[\"source\"]\n",
    "    target = edge[\"target\"]\n",
    "    \n",
    "    node_info[source][\"degree\"] += 1\n",
    "    node_info[target][\"degree\"] += 1"
   ]
  },
  {
   "cell_type": "code",
   "execution_count": 7,
   "metadata": {},
   "outputs": [],
   "source": [
    "# Filter edges based on combined_score from STRING interaction network topology\n",
    "for edge in edge_info:\n",
    "    source = edge[\"source\"]\n",
    "    target = edge[\"target\"]\n",
    "\n",
    "    if edge[\"combined_score\"] > EDGE_TOLERANCE:\n",
    "        edge[\"color\"] = \"black\"\n",
    "    else:\n",
    "        edge[\"color\"] = \"rgb(220,220,220)\" # Grey"
   ]
  },
  {
   "cell_type": "code",
   "execution_count": 8,
   "metadata": {},
   "outputs": [],
   "source": [
    "# Output network to HTML file, which may be opened in a web browser\n",
    "output_html = visJS2jupyter.visJS_module.visjs_network(node_info, edge_info, \n",
    "                    output=\"html\", node_label_field=\"node_label\", node_size_multiplier=NODE_SIZE_MULTIPLIER)\n",
    "\n",
    "with open(OUTPUT_FILE_NAME, \"w\") as output_file:\n",
    "    output_file.write(output_html)"
   ]
  }
 ],
 "metadata": {
  "kernelspec": {
   "display_name": "Python 3",
   "language": "python",
   "name": "python3"
  },
  "language_info": {
   "codemirror_mode": {
    "name": "ipython",
    "version": 3
   },
   "file_extension": ".py",
   "mimetype": "text/x-python",
   "name": "python",
   "nbconvert_exporter": "python",
   "pygments_lexer": "ipython3",
   "version": "3.5.2"
  }
 },
 "nbformat": 4,
 "nbformat_minor": 2
}
